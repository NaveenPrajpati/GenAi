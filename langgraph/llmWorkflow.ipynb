{
 "cells": [
  {
   "cell_type": "code",
   "execution_count": 1,
   "id": "0cad6699",
   "metadata": {},
   "outputs": [
    {
     "data": {
      "text/plain": [
       "True"
      ]
     },
     "execution_count": 1,
     "metadata": {},
     "output_type": "execute_result"
    }
   ],
   "source": [
    "from langgraph.graph import StateGraph, START ,END\n",
    "from typing import TypedDict\n",
    "from langchain_openai import ChatOpenAI\n",
    "from dotenv import load_dotenv\n",
    "\n",
    "load_dotenv()"
   ]
  },
  {
   "cell_type": "code",
   "execution_count": 2,
   "id": "452f2b1b",
   "metadata": {},
   "outputs": [],
   "source": [
    "class llmState(TypedDict):\n",
    "   question:str\n",
    "   answer:str"
   ]
  },
  {
   "cell_type": "code",
   "execution_count": 3,
   "id": "c6804c24",
   "metadata": {},
   "outputs": [
    {
     "name": "stdout",
     "output_type": "stream",
     "text": [
      "{'question': 'what is use of langgraph', 'answer': 'Langgraph is a platform that uses graph-based network analysis to provide insights and recommendations for language learners. It helps users track their language learning progress, identify areas for improvement, and suggest personalized study resources and strategies. Langgraph can also help with connecting language learners with others who are studying the same language, providing opportunities for practice and collaboration. Ultimately, Langgraph aims to enhance the language learning experience and optimize learning outcomes through data-driven insights and community engagement.'}\n"
     ]
    }
   ],
   "source": [
    "graph=StateGraph(llmState)\n",
    "\n",
    "llm=ChatOpenAI()\n",
    "\n",
    "def llmQa(state:llmState)->llmState:\n",
    "    question=state['question']\n",
    "\n",
    "    prompt=f'Answer the following {question}'\n",
    "    ans=llm.invoke(question)\n",
    "\n",
    "    state['answer']=ans.content\n",
    "    return state\n",
    "\n",
    "\n",
    "\n",
    "graph.add_node('qa',llmQa)\n",
    "\n",
    "graph.add_edge(START,'qa')\n",
    "graph.add_edge('qa',END)\n",
    "\n",
    "workflow=graph.compile()\n",
    "\n",
    "final= workflow.invoke({'question':'what is use of langgraph'})\n",
    "\n",
    "print(final)"
   ]
  }
 ],
 "metadata": {
  "kernelspec": {
   "display_name": "venv",
   "language": "python",
   "name": "python3"
  },
  "language_info": {
   "codemirror_mode": {
    "name": "ipython",
    "version": 3
   },
   "file_extension": ".py",
   "mimetype": "text/x-python",
   "name": "python",
   "nbconvert_exporter": "python",
   "pygments_lexer": "ipython3",
   "version": "3.13.5"
  }
 },
 "nbformat": 4,
 "nbformat_minor": 5
}
