{
 "cells": [
  {
   "cell_type": "code",
   "execution_count": 2,
   "id": "0cad6699",
   "metadata": {},
   "outputs": [],
   "source": [
    "from langgraph.graph import StateGraph, START ,END\n",
    "from typing import TypedDict"
   ]
  },
  {
   "cell_type": "code",
   "execution_count": 14,
   "id": "452f2b1b",
   "metadata": {},
   "outputs": [],
   "source": [
    "class BMIState(TypedDict):\n",
    "    weight:float\n",
    "    height:float\n",
    "    bmi:float\n",
    "    result:str"
   ]
  },
  {
   "cell_type": "code",
   "execution_count": 15,
   "id": "c6804c24",
   "metadata": {},
   "outputs": [
    {
     "name": "stdout",
     "output_type": "stream",
     "text": [
      "{'weight': 80, 'height': 1.78, 'bmi': 25.25, 'result': 'fat'}\n"
     ]
    }
   ],
   "source": [
    "graph=StateGraph(BMIState)\n",
    "\n",
    "def calculateBmi(state:BMIState)->BMIState:\n",
    "    weight=state['weight']\n",
    "    height=state['height']\n",
    "\n",
    "    bmi=weight/(height**2)\n",
    "    state['bmi']=round(bmi,2)\n",
    "    return state\n",
    "\n",
    "def  calculateResult(state:BMIState)->BMIState:\n",
    "    bmi=state['bmi']\n",
    "    if(bmi>25):\n",
    "        state['result']='fat'\n",
    "    else:\n",
    "        state['result']='fit'\n",
    "\n",
    "    return state\n",
    "\n",
    "\n",
    "graph.add_node('calculateBmi',calculateBmi)\n",
    "graph.add_node('result',calculateResult)\n",
    "graph.add_edge(START,'calculateBmi')\n",
    "graph.add_edge('calculateBmi','result')\n",
    "graph.add_edge('result',END)\n",
    "\n",
    "workflow=graph.compile()\n",
    "\n",
    "final= workflow.invoke({'weight':80,'height':1.78})\n",
    "\n",
    "print(final)"
   ]
  },
  {
   "cell_type": "code",
   "execution_count": 16,
   "id": "ccf5f15e",
   "metadata": {},
   "outputs": [
    {
     "data": {
      "image/png": "[encoded data removed]",
      "text/plain": [
       "<IPython.core.display.Image object>"
      ]
     },
     "execution_count": 16,
     "metadata": {},
     "output_type": "execute_result"
    }
   ],
   "source": [
    "from IPython.display import Image\n",
    "Image(workflow.get_graph().draw_mermaid_png())"
   ]
  }
 ],
 "metadata": {
  "kernelspec": {
   "display_name": "venv",
   "language": "python",
   "name": "python3"
  },
  "language_info": {
   "codemirror_mode": {
    "name": "ipython",
    "version": 3
   },
   "file_extension": ".py",
   "mimetype": "text/x-python",
   "name": "python",
   "nbconvert_exporter": "python",
   "pygments_lexer": "ipython3",
   "version": "3.13.5"
  }
 },
 "nbformat": 4,
 "nbformat_minor": 5
}
